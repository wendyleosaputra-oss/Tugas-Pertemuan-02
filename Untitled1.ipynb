{
  "nbformat": 4,
  "nbformat_minor": 0,
  "metadata": {
    "colab": {
      "provenance": [],
      "authorship_tag": "ABX9TyOY6vH53ImQHamxgy+gisDI",
      "include_colab_link": true
    },
    "kernelspec": {
      "name": "python3",
      "display_name": "Python 3"
    },
    "language_info": {
      "name": "python"
    }
  },
  "cells": [
    {
      "cell_type": "markdown",
      "metadata": {
        "id": "view-in-github",
        "colab_type": "text"
      },
      "source": [
        "<a href=\"https://colab.research.google.com/github/wendyleosaputra-oss/Tugas-Pertemuan-02/blob/main/Untitled1.ipynb\" target=\"_parent\"><img src=\"https://colab.research.google.com/assets/colab-badge.svg\" alt=\"Open In Colab\"/></a>"
      ]
    },
    {
      "cell_type": "code",
      "execution_count": 9,
      "metadata": {
        "id": "XQ_JsE3OOByP",
        "colab": {
          "base_uri": "https://localhost:8080/"
        },
        "outputId": "7087d248-9f36-458e-e04f-1f94357dbc19"
      },
      "outputs": [
        {
          "output_type": "stream",
          "name": "stdout",
          "text": [
            "biodata saya\n",
            "nama Wendy Leo Saputra\n",
            "umur 19\n",
            "jurusan RPE\n",
            "semester 3\n",
            "matakuliah pemerograman dasar\n",
            "status lulus tidak lulus\n"
          ]
        }
      ],
      "source": [
        "#biodata saya\n",
        "nama : str = \"Wendy Leo Saputra\"\n",
        "umur : int = 19\n",
        "jurusan : str = \"RPE\"\n",
        "semester : int = 3\n",
        "matakuliah : str = \"pemerograman dasar\"\n",
        "status_lulus : bool = False\n",
        "\n",
        "print(\"biodata saya\")\n",
        "print(\"nama\", nama)\n",
        "print(\"umur\", umur)\n",
        "print(\"jurusan\", jurusan)\n",
        "print(\"semester\", semester)\n",
        "print(\"matakuliah\", matakuliah)\n",
        "print(\"status lulus\", \"lulus\" if status_lulus else \"tidak lulus\")\n"
      ]
    }
  ]
}